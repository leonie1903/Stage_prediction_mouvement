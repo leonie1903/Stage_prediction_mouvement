{
 "cells": [
  {
   "cell_type": "code",
   "execution_count": 5,
   "metadata": {},
   "outputs": [
    {
     "name": "stdout",
     "output_type": "stream",
     "text": [
      "Nombre de jours avec activité pour le premier bracelet : 4\n",
      "Nombre de jours avec activité pour le deuxième bracelet : 4\n",
      "Nombre de jours avec activité communs entre les deux bracelets : 4\n"
     ]
    }
   ],
   "source": [
    "import pandas as pd\n",
    "\n",
    "# Charger les fichiers CSV\n",
    "df = pd.read_csv('../data/Marion.lnk/MG_G.csv')\n",
    "df1 = pd.read_csv('../data/Marion.lnk/MG_D.csv')\n",
    "\n",
    "# Renommer les colonnes pour standardiser\n",
    "df.columns = ['date', 'X', 'Y', 'Z']\n",
    "df1.columns = ['date', 'X', 'Y', 'Z']\n",
    "\n",
    "# Convertir les timestamps en format datetime sans spécifier l'unité\n",
    "df['date'] = pd.to_datetime(df['date'])\n",
    "df1['date'] = pd.to_datetime(df1['date'])\n",
    "\n",
    "# Calculer l'accélération totale\n",
    "df['acceleration'] = (df['X']**2 + df['Y']**2 + df['Z']**2)**0.5\n",
    "df1['acceleration'] = (df1['X']**2 + df1['Y']**2 + df1['Z']**2)**0.5\n",
    "\n",
    "# Définir un seuil d'activité\n",
    "activity_threshold = 0.1 # Ajustable selon les besoins\n",
    "\n",
    "# Filtrer les jours où il y a eu de l'activité\n",
    "days_active_df = set(df[df['acceleration'] > activity_threshold]['date'].dt.date.unique())\n",
    "days_active_df1 = set(df1[df1['acceleration'] > activity_threshold]['date'].dt.date.unique())\n",
    "\n",
    "# Nombre total de jours avec activité pour chaque bracelet\n",
    "print(f\"Nombre de jours avec activité pour le premier bracelet : {len(days_active_df)}\")\n",
    "print(f\"Nombre de jours avec activité pour le deuxième bracelet : {len(days_active_df1)}\")\n",
    "\n",
    "# Nombre de jours avec activité communs aux deux bracelets\n",
    "common_active_days = days_active_df.intersection(days_active_df1)\n",
    "print(f\"Nombre de jours avec activité communs entre les deux bracelets : {len(common_active_days)}\")\n"
   ]
  }
 ],
 "metadata": {
  "kernelspec": {
   "display_name": "Python 3",
   "language": "python",
   "name": "python3"
  },
  "language_info": {
   "codemirror_mode": {
    "name": "ipython",
    "version": 3
   },
   "file_extension": ".py",
   "mimetype": "text/x-python",
   "name": "python",
   "nbconvert_exporter": "python",
   "pygments_lexer": "ipython3",
   "version": "3.9.6"
  }
 },
 "nbformat": 4,
 "nbformat_minor": 2
}
