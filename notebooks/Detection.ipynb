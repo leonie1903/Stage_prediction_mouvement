{
 "cells": [
  {
   "cell_type": "code",
   "execution_count": null,
   "metadata": {},
   "outputs": [
    {
     "name": "stdout",
     "output_type": "stream",
     "text": [
      "Nombre de jours complets avec mouvement (bras gauche): 4\n",
      "Nombre de jours complets avec mouvement (bras droit): 4\n"
     ]
    }
   ],
   "source": [
    "import pandas as pd\n",
    "import numpy as np\n",
    "import warnings\n",
    "warnings.filterwarnings(\"ignore\", category=DeprecationWarning)\n",
    "def count_complete_days_with_movement(df_gauche, df_droit, threshold=0.01):\n",
    "    \"\"\"\n",
    "    Compter le nombre de jours complets avec mouvement pour chaque bras.    \n",
    "   :param df_gauche: DataFrame contenant les données d'accéléromètre du bras gauche\n",
    "    :param df_droit: DataFrame contenant les données d'accéléromètre du bras droit\n",
    "    :param threshold: Seuil de variation minimale pour considérer un mouvement\n",
    "    :return: Nombre de jours complets avec mouvement pour chaque bras\n",
    "    \"\"\"\n",
    "    \n",
    "    # Assigner les noms de colonnes\n",
    "    df_gauche.columns = ['timestamp', 'x_gauche', 'y_gauche', 'z_gauche']\n",
    "    df_droit.columns = ['timestamp', 'x_droit', 'y_droit', 'z_droit']\n",
    "    \n",
    "    # Convertir les timestamps en datetime\n",
    "    df_gauche['timestamp'] = pd.to_datetime(df_gauche['timestamp'])\n",
    "    df_droit['timestamp'] = pd.to_datetime(df_droit['timestamp'])\n",
    "    \n",
    "    df_gauche['date'] = df_gauche['timestamp'].dt.date  # Extraire la date\n",
    "    df_gauche['hour'] = df_gauche['timestamp'].dt.hour  # Extraire l'heure\n",
    "    df_droit['date'] = df_droit['timestamp'].dt.date\n",
    "    df_droit['hour'] = df_droit['timestamp'].dt.hour\n",
    "    \n",
    "    def compute_movement(df, x_col):\n",
    "        return (\n",
    "            df.groupby('date')\n",
    "            .apply(lambda group: group.groupby('hour')[x_col].apply(lambda x: (x.max() - x.min()) > threshold).all())\n",
    "        )\n",
    "    \n",
    "    # Vérifier les jours avec mouvement pour chaque bras\n",
    "    days_with_movement_gauche = compute_movement(df_gauche, 'x_gauche')\n",
    "    days_with_movement_droit = compute_movement(df_droit, 'x_droit')\n",
    "    \n",
    "    # Compter le nombre de jours complets avec mouvement pour chaque bras\n",
    "    complete_days_count_gauche = days_with_movement_gauche[days_with_movement_gauche].index.nunique()\n",
    "    complete_days_count_droit = days_with_movement_droit[days_with_movement_droit].index.nunique()\n",
    "    \n",
    "    return complete_days_count_gauche, complete_days_count_droit\n",
    "\n",
    "# Exemple d'utilisation\n",
    "# Charger les données depuis deux fichiers CSV ou autre source\n",
    "df_gauche = pd.read_csv(\"../data/Marion.lnk/MG_D.csv\", header=None)\n",
    "df_droit = pd.read_csv(\"../data/Marion.lnk/MG_G.csv\", header=None)\n",
    "# Nombre de jours complets avec mouvement pour chaque bras\n",
    "result_gauche, result_droit = count_complete_days_with_movement(df_gauche, df_droit)\n",
    "print(\"Nombre de jours complets avec mouvement (bras gauche):\", result_gauche)\n",
    "print(\"Nombre de jours complets avec mouvement (bras droit):\", result_droit)\n"
   ]
  }
 ],
 "metadata": {
  "kernelspec": {
   "display_name": "Python 3",
   "language": "python",
   "name": "python3"
  },
  "language_info": {
   "codemirror_mode": {
    "name": "ipython",
    "version": 3
   },
   "file_extension": ".py",
   "mimetype": "text/x-python",
   "name": "python",
   "nbconvert_exporter": "python",
   "pygments_lexer": "ipython3",
   "version": "3.9.6"
  }
 },
 "nbformat": 4,
 "nbformat_minor": 2
}
